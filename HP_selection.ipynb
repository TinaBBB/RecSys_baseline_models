{
 "cells": [
  {
   "cell_type": "code",
   "execution_count": 2,
   "metadata": {},
   "outputs": [],
   "source": [
    "import ast\n",
    "import os\n",
    "import pandas as pd\n",
    "pd.set_option('display.max_columns', 50)"
   ]
  },
  {
   "cell_type": "code",
   "execution_count": 2,
   "metadata": {},
   "outputs": [],
   "source": [
    "def save_dataframe_csv(df, path, name):\n",
    "    df.to_csv(path+name, index=False)"
   ]
  },
  {
   "cell_type": "code",
   "execution_count": 3,
   "metadata": {},
   "outputs": [],
   "source": [
    "def load_tuning_results(folder_path):\n",
    "    # get all files in the folder path \n",
    "    csv_files = [os.path.join(folder_path, f) for f in os.listdir(folder_path) if os.path.isfile(os.path.join(folder_path, f)) and f.endswith('.csv')]\n",
    "    \n",
    "    df = pd.DataFrame()\n",
    "    for record in csv_files:\n",
    "        df = df.append(pd.read_csv(record))\n",
    "    return df"
   ]
  },
  {
   "cell_type": "code",
   "execution_count": 4,
   "metadata": {},
   "outputs": [],
   "source": [
    "df_yelp_rating = load_tuning_results(folder_path='tables/yelp_toronto/')"
   ]
  },
  {
   "cell_type": "code",
   "execution_count": 5,
   "metadata": {},
   "outputs": [],
   "source": [
    "metric='NDCG'\n",
    "df_yelp_rating = df_yelp_rating.sort_values(by=metric, ascending=False)"
   ]
  },
  {
   "cell_type": "code",
   "execution_count": 6,
   "metadata": {},
   "outputs": [
    {
     "data": {
      "text/plain": [
       "array(['NCE-PLRec', 'VAE-CF', 'PLRec', 'BPR', 'CDAE', 'AutoRec', 'POP',\n",
       "       'PureSVD'], dtype=object)"
      ]
     },
     "execution_count": 6,
     "metadata": {},
     "output_type": "execute_result"
    }
   ],
   "source": [
    "df_yelp_rating.model.unique()"
   ]
  },
  {
   "cell_type": "code",
   "execution_count": 12,
   "metadata": {},
   "outputs": [
    {
     "data": {
      "text/html": [
       "<div>\n",
       "<style scoped>\n",
       "    .dataframe tbody tr th:only-of-type {\n",
       "        vertical-align: middle;\n",
       "    }\n",
       "\n",
       "    .dataframe tbody tr th {\n",
       "        vertical-align: top;\n",
       "    }\n",
       "\n",
       "    .dataframe thead th {\n",
       "        text-align: right;\n",
       "    }\n",
       "</style>\n",
       "<table border=\"1\" class=\"dataframe\">\n",
       "  <thead>\n",
       "    <tr style=\"text-align: right;\">\n",
       "      <th></th>\n",
       "      <th>model</th>\n",
       "      <th>rank</th>\n",
       "      <th>alpha</th>\n",
       "      <th>lambda</th>\n",
       "      <th>iter</th>\n",
       "      <th>similarity</th>\n",
       "      <th>corruption</th>\n",
       "      <th>root</th>\n",
       "      <th>topK</th>\n",
       "      <th>MAP@10</th>\n",
       "      <th>MAP@20</th>\n",
       "      <th>MAP@5</th>\n",
       "      <th>NDCG</th>\n",
       "      <th>Precision@10</th>\n",
       "      <th>Precision@20</th>\n",
       "      <th>Precision@5</th>\n",
       "      <th>R-Precision</th>\n",
       "      <th>Recall@10</th>\n",
       "      <th>Recall@20</th>\n",
       "      <th>Recall@5</th>\n",
       "    </tr>\n",
       "  </thead>\n",
       "  <tbody>\n",
       "    <tr>\n",
       "      <th>0</th>\n",
       "      <td>PureSVD</td>\n",
       "      <td>50</td>\n",
       "      <td>1</td>\n",
       "      <td>1.0</td>\n",
       "      <td>10</td>\n",
       "      <td>Cosine</td>\n",
       "      <td>0.0</td>\n",
       "      <td>1.0</td>\n",
       "      <td>NaN</td>\n",
       "      <td>[0.0116, 0.0011]</td>\n",
       "      <td>[0.01, 0.0008]</td>\n",
       "      <td>[0.013, 0.0016]</td>\n",
       "      <td>[0.0329, 0.0025]</td>\n",
       "      <td>[0.0096, 0.0007]</td>\n",
       "      <td>[0.0078, 0.0005]</td>\n",
       "      <td>[0.0114, 0.0011]</td>\n",
       "      <td>[0.0136, 0.002]</td>\n",
       "      <td>[0.0391, 0.0036]</td>\n",
       "      <td>[0.0629, 0.0045]</td>\n",
       "      <td>[0.0238, 0.0028]</td>\n",
       "    </tr>\n",
       "    <tr>\n",
       "      <th>1</th>\n",
       "      <td>PureSVD</td>\n",
       "      <td>100</td>\n",
       "      <td>1</td>\n",
       "      <td>1.0</td>\n",
       "      <td>10</td>\n",
       "      <td>Cosine</td>\n",
       "      <td>0.0</td>\n",
       "      <td>1.0</td>\n",
       "      <td>NaN</td>\n",
       "      <td>[0.0095, 0.001]</td>\n",
       "      <td>[0.0083, 0.0007]</td>\n",
       "      <td>[0.011, 0.0014]</td>\n",
       "      <td>[0.028, 0.0023]</td>\n",
       "      <td>[0.0077, 0.0007]</td>\n",
       "      <td>[0.0068, 0.0004]</td>\n",
       "      <td>[0.0089, 0.001]</td>\n",
       "      <td>[0.0107, 0.0017]</td>\n",
       "      <td>[0.0321, 0.0033]</td>\n",
       "      <td>[0.0552, 0.0042]</td>\n",
       "      <td>[0.0184, 0.0025]</td>\n",
       "    </tr>\n",
       "    <tr>\n",
       "      <th>2</th>\n",
       "      <td>PureSVD</td>\n",
       "      <td>200</td>\n",
       "      <td>1</td>\n",
       "      <td>1.0</td>\n",
       "      <td>10</td>\n",
       "      <td>Cosine</td>\n",
       "      <td>0.0</td>\n",
       "      <td>1.0</td>\n",
       "      <td>NaN</td>\n",
       "      <td>[0.0078, 0.0009]</td>\n",
       "      <td>[0.0068, 0.0007]</td>\n",
       "      <td>[0.009, 0.0013]</td>\n",
       "      <td>[0.0221, 0.0019]</td>\n",
       "      <td>[0.0062, 0.0006]</td>\n",
       "      <td>[0.0055, 0.0004]</td>\n",
       "      <td>[0.0073, 0.0009]</td>\n",
       "      <td>[0.008, 0.0013]</td>\n",
       "      <td>[0.0243, 0.0028]</td>\n",
       "      <td>[0.0445, 0.0038]</td>\n",
       "      <td>[0.014, 0.0021]</td>\n",
       "    </tr>\n",
       "  </tbody>\n",
       "</table>\n",
       "</div>"
      ],
      "text/plain": [
       "     model  rank  alpha  lambda  iter similarity  corruption  root  topK  \\\n",
       "0  PureSVD    50      1     1.0    10     Cosine         0.0   1.0   NaN   \n",
       "1  PureSVD   100      1     1.0    10     Cosine         0.0   1.0   NaN   \n",
       "2  PureSVD   200      1     1.0    10     Cosine         0.0   1.0   NaN   \n",
       "\n",
       "             MAP@10            MAP@20            MAP@5              NDCG  \\\n",
       "0  [0.0116, 0.0011]    [0.01, 0.0008]  [0.013, 0.0016]  [0.0329, 0.0025]   \n",
       "1   [0.0095, 0.001]  [0.0083, 0.0007]  [0.011, 0.0014]   [0.028, 0.0023]   \n",
       "2  [0.0078, 0.0009]  [0.0068, 0.0007]  [0.009, 0.0013]  [0.0221, 0.0019]   \n",
       "\n",
       "       Precision@10      Precision@20       Precision@5       R-Precision  \\\n",
       "0  [0.0096, 0.0007]  [0.0078, 0.0005]  [0.0114, 0.0011]   [0.0136, 0.002]   \n",
       "1  [0.0077, 0.0007]  [0.0068, 0.0004]   [0.0089, 0.001]  [0.0107, 0.0017]   \n",
       "2  [0.0062, 0.0006]  [0.0055, 0.0004]  [0.0073, 0.0009]   [0.008, 0.0013]   \n",
       "\n",
       "          Recall@10         Recall@20          Recall@5  \n",
       "0  [0.0391, 0.0036]  [0.0629, 0.0045]  [0.0238, 0.0028]  \n",
       "1  [0.0321, 0.0033]  [0.0552, 0.0042]  [0.0184, 0.0025]  \n",
       "2  [0.0243, 0.0028]  [0.0445, 0.0038]   [0.014, 0.0021]  "
      ]
     },
     "execution_count": 12,
     "metadata": {},
     "output_type": "execute_result"
    }
   ],
   "source": [
    "df_yelp_rating[df_yelp_rating['model'] == 'PureSVD']"
   ]
  },
  {
   "cell_type": "code",
   "execution_count": 13,
   "metadata": {},
   "outputs": [],
   "source": [
    "vae_df = df_yelp_rating[df_yelp_rating['model'] == 'VAE-CF']\n",
    "save_dataframe_csv(vae_df, 'tables/yelp_toronto/', 'vae.csv')"
   ]
  },
  {
   "cell_type": "code",
   "execution_count": 14,
   "metadata": {},
   "outputs": [],
   "source": [
    "cdae_df = df_yelp_rating[df_yelp_rating['model'] == 'CDAE']\n",
    "save_dataframe_csv(cdae_df, 'tables/yelp_toronto/', 'cdae.csv')"
   ]
  },
  {
   "cell_type": "code",
   "execution_count": 15,
   "metadata": {},
   "outputs": [],
   "source": [
    "bpr_df = df_yelp_rating[df_yelp_rating['model'] == 'BPR']\n",
    "save_dataframe_csv(bpr_df, 'tables/yelp_toronto/', 'bpr.csv')"
   ]
  },
  {
   "cell_type": "code",
   "execution_count": null,
   "metadata": {},
   "outputs": [],
   "source": []
  },
  {
   "cell_type": "code",
   "execution_count": null,
   "metadata": {},
   "outputs": [],
   "source": []
  },
  {
   "cell_type": "markdown",
   "metadata": {},
   "source": [
    "### Checking final results"
   ]
  },
  {
   "cell_type": "code",
   "execution_count": 3,
   "metadata": {},
   "outputs": [],
   "source": [
    "df = pd.read_csv('./tables/final_result.csv')"
   ]
  },
  {
   "cell_type": "code",
   "execution_count": 7,
   "metadata": {},
   "outputs": [],
   "source": [
    "metric='NDCG'"
   ]
  },
  {
   "cell_type": "code",
   "execution_count": 8,
   "metadata": {},
   "outputs": [
    {
     "data": {
      "text/html": [
       "<div>\n",
       "<style scoped>\n",
       "    .dataframe tbody tr th:only-of-type {\n",
       "        vertical-align: middle;\n",
       "    }\n",
       "\n",
       "    .dataframe tbody tr th {\n",
       "        vertical-align: top;\n",
       "    }\n",
       "\n",
       "    .dataframe thead th {\n",
       "        text-align: right;\n",
       "    }\n",
       "</style>\n",
       "<table border=\"1\" class=\"dataframe\">\n",
       "  <thead>\n",
       "    <tr style=\"text-align: right;\">\n",
       "      <th></th>\n",
       "      <th>model</th>\n",
       "      <th>NDCG</th>\n",
       "    </tr>\n",
       "  </thead>\n",
       "  <tbody>\n",
       "    <tr>\n",
       "      <th>0</th>\n",
       "      <td>VAE-CF</td>\n",
       "      <td>[0.0209, 0.0015]</td>\n",
       "    </tr>\n",
       "    <tr>\n",
       "      <th>1</th>\n",
       "      <td>CDAE</td>\n",
       "      <td>[0.0118, 0.0009]</td>\n",
       "    </tr>\n",
       "    <tr>\n",
       "      <th>2</th>\n",
       "      <td>BPR</td>\n",
       "      <td>[0.0182, 0.0013]</td>\n",
       "    </tr>\n",
       "    <tr>\n",
       "      <th>3</th>\n",
       "      <td>NCE-PLRec</td>\n",
       "      <td>[0.0147, 0.0012]</td>\n",
       "    </tr>\n",
       "    <tr>\n",
       "      <th>4</th>\n",
       "      <td>CDAE</td>\n",
       "      <td>[0.0115, 0.0009]</td>\n",
       "    </tr>\n",
       "    <tr>\n",
       "      <th>5</th>\n",
       "      <td>CDAE</td>\n",
       "      <td>[0.0119, 0.001]</td>\n",
       "    </tr>\n",
       "    <tr>\n",
       "      <th>6</th>\n",
       "      <td>PureSVD</td>\n",
       "      <td>[0.0131, 0.0012]</td>\n",
       "    </tr>\n",
       "    <tr>\n",
       "      <th>7</th>\n",
       "      <td>BPR</td>\n",
       "      <td>[0.0045, 0.0006]</td>\n",
       "    </tr>\n",
       "    <tr>\n",
       "      <th>8</th>\n",
       "      <td>AutoRec</td>\n",
       "      <td>[0.013, 0.001]</td>\n",
       "    </tr>\n",
       "    <tr>\n",
       "      <th>9</th>\n",
       "      <td>BPR</td>\n",
       "      <td>[0.0101, 0.0008]</td>\n",
       "    </tr>\n",
       "    <tr>\n",
       "      <th>10</th>\n",
       "      <td>CDAE</td>\n",
       "      <td>[0.0159, 0.0015]</td>\n",
       "    </tr>\n",
       "    <tr>\n",
       "      <th>11</th>\n",
       "      <td>VAE-CF</td>\n",
       "      <td>[0.0227, 0.0015]</td>\n",
       "    </tr>\n",
       "    <tr>\n",
       "      <th>12</th>\n",
       "      <td>VAE-CF</td>\n",
       "      <td>[0.0227, 0.0016]</td>\n",
       "    </tr>\n",
       "    <tr>\n",
       "      <th>13</th>\n",
       "      <td>BPR</td>\n",
       "      <td>[0.0055, 0.0007]</td>\n",
       "    </tr>\n",
       "    <tr>\n",
       "      <th>14</th>\n",
       "      <td>PLRec</td>\n",
       "      <td>[0.0151, 0.0012]</td>\n",
       "    </tr>\n",
       "    <tr>\n",
       "      <th>15</th>\n",
       "      <td>POP</td>\n",
       "      <td>[0.0111, 0.0009]</td>\n",
       "    </tr>\n",
       "    <tr>\n",
       "      <th>16</th>\n",
       "      <td>BPR</td>\n",
       "      <td>[0.0143, 0.0012]</td>\n",
       "    </tr>\n",
       "    <tr>\n",
       "      <th>17</th>\n",
       "      <td>VAE-CF</td>\n",
       "      <td>[0.0232, 0.0016]</td>\n",
       "    </tr>\n",
       "  </tbody>\n",
       "</table>\n",
       "</div>"
      ],
      "text/plain": [
       "        model              NDCG\n",
       "0      VAE-CF  [0.0209, 0.0015]\n",
       "1        CDAE  [0.0118, 0.0009]\n",
       "2         BPR  [0.0182, 0.0013]\n",
       "3   NCE-PLRec  [0.0147, 0.0012]\n",
       "4        CDAE  [0.0115, 0.0009]\n",
       "5        CDAE   [0.0119, 0.001]\n",
       "6     PureSVD  [0.0131, 0.0012]\n",
       "7         BPR  [0.0045, 0.0006]\n",
       "8     AutoRec    [0.013, 0.001]\n",
       "9         BPR  [0.0101, 0.0008]\n",
       "10       CDAE  [0.0159, 0.0015]\n",
       "11     VAE-CF  [0.0227, 0.0015]\n",
       "12     VAE-CF  [0.0227, 0.0016]\n",
       "13        BPR  [0.0055, 0.0007]\n",
       "14      PLRec  [0.0151, 0.0012]\n",
       "15        POP  [0.0111, 0.0009]\n",
       "16        BPR  [0.0143, 0.0012]\n",
       "17     VAE-CF  [0.0232, 0.0016]"
      ]
     },
     "execution_count": 8,
     "metadata": {},
     "output_type": "execute_result"
    }
   ],
   "source": [
    "df[['model', 'NDCG']]"
   ]
  },
  {
   "cell_type": "code",
   "execution_count": 20,
   "metadata": {},
   "outputs": [
    {
     "data": {
      "text/plain": [
       "Index(['model', 'rank', 'alpha', 'lambda', 'iter', 'similarity', 'corruption',\n",
       "       'root', 'topK', 'MAP@10', 'MAP@15', 'MAP@20', 'MAP@5', 'MAP@50', 'NDCG',\n",
       "       'Precision@10', 'Precision@15', 'Precision@20', 'Precision@5',\n",
       "       'Precision@50', 'R-Precision', 'Recall@10', 'Recall@15', 'Recall@20',\n",
       "       'Recall@5', 'Recall@50', 'metric'],\n",
       "      dtype='object')"
      ]
     },
     "execution_count": 20,
     "metadata": {},
     "output_type": "execute_result"
    }
   ],
   "source": [
    "df.columns"
   ]
  },
  {
   "cell_type": "code",
   "execution_count": 54,
   "metadata": {},
   "outputs": [
    {
     "data": {
      "text/html": [
       "<div>\n",
       "<style scoped>\n",
       "    .dataframe tbody tr th:only-of-type {\n",
       "        vertical-align: middle;\n",
       "    }\n",
       "\n",
       "    .dataframe tbody tr th {\n",
       "        vertical-align: top;\n",
       "    }\n",
       "\n",
       "    .dataframe thead th {\n",
       "        text-align: right;\n",
       "    }\n",
       "</style>\n",
       "<table border=\"1\" class=\"dataframe\">\n",
       "  <thead>\n",
       "    <tr style=\"text-align: right;\">\n",
       "      <th></th>\n",
       "      <th>model</th>\n",
       "      <th>NDCG</th>\n",
       "      <th>Recall@5</th>\n",
       "      <th>Precision@10</th>\n",
       "      <th>Precision@20</th>\n",
       "    </tr>\n",
       "  </thead>\n",
       "  <tbody>\n",
       "    <tr>\n",
       "      <th>15</th>\n",
       "      <td>POP</td>\n",
       "      <td>[0.0111, 0.0009]</td>\n",
       "      <td>[0.0014, 0.0006]</td>\n",
       "      <td>[0.0055, 0.0006]</td>\n",
       "      <td>[0.0042, 0.0004]</td>\n",
       "    </tr>\n",
       "  </tbody>\n",
       "</table>\n",
       "</div>"
      ],
      "text/plain": [
       "   model              NDCG          Recall@5      Precision@10  \\\n",
       "15   POP  [0.0111, 0.0009]  [0.0014, 0.0006]  [0.0055, 0.0006]   \n",
       "\n",
       "        Precision@20  \n",
       "15  [0.0042, 0.0004]  "
      ]
     },
     "execution_count": 54,
     "metadata": {},
     "output_type": "execute_result"
    }
   ],
   "source": [
    "df[df['model'] == 'POP'][['model', 'NDCG', 'Recall@5', 'Precision@10', 'Precision@20']].sort_values(by=metric, ascending=False)"
   ]
  },
  {
   "cell_type": "code",
   "execution_count": 32,
   "metadata": {},
   "outputs": [
    {
     "data": {
      "text/html": [
       "<div>\n",
       "<style scoped>\n",
       "    .dataframe tbody tr th:only-of-type {\n",
       "        vertical-align: middle;\n",
       "    }\n",
       "\n",
       "    .dataframe tbody tr th {\n",
       "        vertical-align: top;\n",
       "    }\n",
       "\n",
       "    .dataframe thead th {\n",
       "        text-align: right;\n",
       "    }\n",
       "</style>\n",
       "<table border=\"1\" class=\"dataframe\">\n",
       "  <thead>\n",
       "    <tr style=\"text-align: right;\">\n",
       "      <th></th>\n",
       "      <th>model</th>\n",
       "      <th>NDCG</th>\n",
       "      <th>Recall@5</th>\n",
       "      <th>Recall@10</th>\n",
       "      <th>Recall@20</th>\n",
       "    </tr>\n",
       "  </thead>\n",
       "  <tbody>\n",
       "    <tr>\n",
       "      <th>8</th>\n",
       "      <td>AutoRec</td>\n",
       "      <td>[0.013, 0.001]</td>\n",
       "      <td>[0.002, 0.0007]</td>\n",
       "      <td>[0.0051, 0.0011]</td>\n",
       "      <td>[0.0082, 0.0015]</td>\n",
       "    </tr>\n",
       "  </tbody>\n",
       "</table>\n",
       "</div>"
      ],
      "text/plain": [
       "     model            NDCG         Recall@5         Recall@10  \\\n",
       "8  AutoRec  [0.013, 0.001]  [0.002, 0.0007]  [0.0051, 0.0011]   \n",
       "\n",
       "          Recall@20  \n",
       "8  [0.0082, 0.0015]  "
      ]
     },
     "execution_count": 32,
     "metadata": {},
     "output_type": "execute_result"
    }
   ],
   "source": [
    "df[df['model'] == 'AutoRec'][['model', 'NDCG', 'Recall@5', 'Recall@10', 'Recall@20']].sort_values(by=metric, ascending=False)"
   ]
  },
  {
   "cell_type": "code",
   "execution_count": 36,
   "metadata": {},
   "outputs": [
    {
     "data": {
      "text/html": [
       "<div>\n",
       "<style scoped>\n",
       "    .dataframe tbody tr th:only-of-type {\n",
       "        vertical-align: middle;\n",
       "    }\n",
       "\n",
       "    .dataframe tbody tr th {\n",
       "        vertical-align: top;\n",
       "    }\n",
       "\n",
       "    .dataframe thead th {\n",
       "        text-align: right;\n",
       "    }\n",
       "</style>\n",
       "<table border=\"1\" class=\"dataframe\">\n",
       "  <thead>\n",
       "    <tr style=\"text-align: right;\">\n",
       "      <th></th>\n",
       "      <th>model</th>\n",
       "      <th>NDCG</th>\n",
       "      <th>Recall@5</th>\n",
       "      <th>Recall@10</th>\n",
       "      <th>Recall@20</th>\n",
       "    </tr>\n",
       "  </thead>\n",
       "  <tbody>\n",
       "    <tr>\n",
       "      <th>2</th>\n",
       "      <td>BPR</td>\n",
       "      <td>[0.0182, 0.0013]</td>\n",
       "      <td>[0.0037, 0.001]</td>\n",
       "      <td>[0.0105, 0.0016]</td>\n",
       "      <td>[0.0238, 0.0025]</td>\n",
       "    </tr>\n",
       "    <tr>\n",
       "      <th>16</th>\n",
       "      <td>BPR</td>\n",
       "      <td>[0.0143, 0.0012]</td>\n",
       "      <td>[0.0042, 0.0011]</td>\n",
       "      <td>[0.0096, 0.0017]</td>\n",
       "      <td>[0.017, 0.0022]</td>\n",
       "    </tr>\n",
       "    <tr>\n",
       "      <th>9</th>\n",
       "      <td>BPR</td>\n",
       "      <td>[0.0101, 0.0008]</td>\n",
       "      <td>[0.0003, 0.0003]</td>\n",
       "      <td>[0.0023, 0.0008]</td>\n",
       "      <td>[0.0179, 0.0021]</td>\n",
       "    </tr>\n",
       "    <tr>\n",
       "      <th>13</th>\n",
       "      <td>BPR</td>\n",
       "      <td>[0.0055, 0.0007]</td>\n",
       "      <td>[0.0019, 0.0008]</td>\n",
       "      <td>[0.0032, 0.0009]</td>\n",
       "      <td>[0.0063, 0.0013]</td>\n",
       "    </tr>\n",
       "    <tr>\n",
       "      <th>7</th>\n",
       "      <td>BPR</td>\n",
       "      <td>[0.0045, 0.0006]</td>\n",
       "      <td>[0.001, 0.0004]</td>\n",
       "      <td>[0.0022, 0.0007]</td>\n",
       "      <td>[0.005, 0.0011]</td>\n",
       "    </tr>\n",
       "  </tbody>\n",
       "</table>\n",
       "</div>"
      ],
      "text/plain": [
       "   model              NDCG          Recall@5         Recall@10  \\\n",
       "2    BPR  [0.0182, 0.0013]   [0.0037, 0.001]  [0.0105, 0.0016]   \n",
       "16   BPR  [0.0143, 0.0012]  [0.0042, 0.0011]  [0.0096, 0.0017]   \n",
       "9    BPR  [0.0101, 0.0008]  [0.0003, 0.0003]  [0.0023, 0.0008]   \n",
       "13   BPR  [0.0055, 0.0007]  [0.0019, 0.0008]  [0.0032, 0.0009]   \n",
       "7    BPR  [0.0045, 0.0006]   [0.001, 0.0004]  [0.0022, 0.0007]   \n",
       "\n",
       "           Recall@20  \n",
       "2   [0.0238, 0.0025]  \n",
       "16   [0.017, 0.0022]  \n",
       "9   [0.0179, 0.0021]  \n",
       "13  [0.0063, 0.0013]  \n",
       "7    [0.005, 0.0011]  "
      ]
     },
     "execution_count": 36,
     "metadata": {},
     "output_type": "execute_result"
    }
   ],
   "source": [
    "df[df['model'] == 'BPR'][['model', 'NDCG', 'Recall@5', 'Recall@10', 'Recall@20']].sort_values(by=metric, ascending=False)"
   ]
  },
  {
   "cell_type": "code",
   "execution_count": 40,
   "metadata": {},
   "outputs": [
    {
     "data": {
      "text/html": [
       "<div>\n",
       "<style scoped>\n",
       "    .dataframe tbody tr th:only-of-type {\n",
       "        vertical-align: middle;\n",
       "    }\n",
       "\n",
       "    .dataframe tbody tr th {\n",
       "        vertical-align: top;\n",
       "    }\n",
       "\n",
       "    .dataframe thead th {\n",
       "        text-align: right;\n",
       "    }\n",
       "</style>\n",
       "<table border=\"1\" class=\"dataframe\">\n",
       "  <thead>\n",
       "    <tr style=\"text-align: right;\">\n",
       "      <th></th>\n",
       "      <th>model</th>\n",
       "      <th>NDCG</th>\n",
       "      <th>Recall@5</th>\n",
       "      <th>Recall@10</th>\n",
       "      <th>Recall@20</th>\n",
       "    </tr>\n",
       "  </thead>\n",
       "  <tbody>\n",
       "    <tr>\n",
       "      <th>6</th>\n",
       "      <td>PureSVD</td>\n",
       "      <td>[0.0131, 0.0012]</td>\n",
       "      <td>[0.0047, 0.0011]</td>\n",
       "      <td>[0.0089, 0.0015]</td>\n",
       "      <td>[0.0169, 0.0021]</td>\n",
       "    </tr>\n",
       "  </tbody>\n",
       "</table>\n",
       "</div>"
      ],
      "text/plain": [
       "     model              NDCG          Recall@5         Recall@10  \\\n",
       "6  PureSVD  [0.0131, 0.0012]  [0.0047, 0.0011]  [0.0089, 0.0015]   \n",
       "\n",
       "          Recall@20  \n",
       "6  [0.0169, 0.0021]  "
      ]
     },
     "execution_count": 40,
     "metadata": {},
     "output_type": "execute_result"
    }
   ],
   "source": [
    "df[df['model'] == 'PureSVD'][['model', 'NDCG', 'Recall@5', 'Recall@10', 'Recall@20']].sort_values(by=metric, ascending=False)"
   ]
  },
  {
   "cell_type": "code",
   "execution_count": 57,
   "metadata": {},
   "outputs": [
    {
     "data": {
      "text/html": [
       "<div>\n",
       "<style scoped>\n",
       "    .dataframe tbody tr th:only-of-type {\n",
       "        vertical-align: middle;\n",
       "    }\n",
       "\n",
       "    .dataframe tbody tr th {\n",
       "        vertical-align: top;\n",
       "    }\n",
       "\n",
       "    .dataframe thead th {\n",
       "        text-align: right;\n",
       "    }\n",
       "</style>\n",
       "<table border=\"1\" class=\"dataframe\">\n",
       "  <thead>\n",
       "    <tr style=\"text-align: right;\">\n",
       "      <th></th>\n",
       "      <th>model</th>\n",
       "      <th>NDCG</th>\n",
       "      <th>R-Precision</th>\n",
       "    </tr>\n",
       "  </thead>\n",
       "  <tbody>\n",
       "    <tr>\n",
       "      <th>10</th>\n",
       "      <td>CDAE</td>\n",
       "      <td>[0.0159, 0.0015]</td>\n",
       "      <td>[0.0056, 0.0011]</td>\n",
       "    </tr>\n",
       "    <tr>\n",
       "      <th>5</th>\n",
       "      <td>CDAE</td>\n",
       "      <td>[0.0119, 0.001]</td>\n",
       "      <td>[0.0017, 0.0003]</td>\n",
       "    </tr>\n",
       "    <tr>\n",
       "      <th>1</th>\n",
       "      <td>CDAE</td>\n",
       "      <td>[0.0118, 0.0009]</td>\n",
       "      <td>[0.0024, 0.0004]</td>\n",
       "    </tr>\n",
       "    <tr>\n",
       "      <th>4</th>\n",
       "      <td>CDAE</td>\n",
       "      <td>[0.0115, 0.0009]</td>\n",
       "      <td>[0.0025, 0.0004]</td>\n",
       "    </tr>\n",
       "  </tbody>\n",
       "</table>\n",
       "</div>"
      ],
      "text/plain": [
       "   model              NDCG       R-Precision\n",
       "10  CDAE  [0.0159, 0.0015]  [0.0056, 0.0011]\n",
       "5   CDAE   [0.0119, 0.001]  [0.0017, 0.0003]\n",
       "1   CDAE  [0.0118, 0.0009]  [0.0024, 0.0004]\n",
       "4   CDAE  [0.0115, 0.0009]  [0.0025, 0.0004]"
      ]
     },
     "execution_count": 57,
     "metadata": {},
     "output_type": "execute_result"
    }
   ],
   "source": [
    "df[df['model'] == 'CDAE'][['model', 'NDCG', 'Recall@5', 'Recall@10', 'Recall@20']].sort_values(by=metric, ascending=False)"
   ]
  },
  {
   "cell_type": "code",
   "execution_count": 66,
   "metadata": {},
   "outputs": [
    {
     "data": {
      "text/html": [
       "<div>\n",
       "<style scoped>\n",
       "    .dataframe tbody tr th:only-of-type {\n",
       "        vertical-align: middle;\n",
       "    }\n",
       "\n",
       "    .dataframe tbody tr th {\n",
       "        vertical-align: top;\n",
       "    }\n",
       "\n",
       "    .dataframe thead th {\n",
       "        text-align: right;\n",
       "    }\n",
       "</style>\n",
       "<table border=\"1\" class=\"dataframe\">\n",
       "  <thead>\n",
       "    <tr style=\"text-align: right;\">\n",
       "      <th></th>\n",
       "      <th>model</th>\n",
       "      <th>NDCG</th>\n",
       "      <th>R-Precision</th>\n",
       "      <th>Recall@5</th>\n",
       "      <th>Recall@10</th>\n",
       "      <th>Recall@20</th>\n",
       "    </tr>\n",
       "  </thead>\n",
       "  <tbody>\n",
       "    <tr>\n",
       "      <th>3</th>\n",
       "      <td>NCE-PLRec</td>\n",
       "      <td>[0.0147, 0.0012]</td>\n",
       "      <td>[0.0031, 0.0006]</td>\n",
       "      <td>[0.0054, 0.0012]</td>\n",
       "      <td>[0.0096, 0.0016]</td>\n",
       "      <td>[0.0185, 0.0022]</td>\n",
       "    </tr>\n",
       "  </tbody>\n",
       "</table>\n",
       "</div>"
      ],
      "text/plain": [
       "       model              NDCG       R-Precision          Recall@5  \\\n",
       "3  NCE-PLRec  [0.0147, 0.0012]  [0.0031, 0.0006]  [0.0054, 0.0012]   \n",
       "\n",
       "          Recall@10         Recall@20  \n",
       "3  [0.0096, 0.0016]  [0.0185, 0.0022]  "
      ]
     },
     "execution_count": 66,
     "metadata": {},
     "output_type": "execute_result"
    }
   ],
   "source": [
    "df[df['model'] == 'NCE-PLRec'][['model', 'NDCG', 'R-Precision', 'Recall@5', 'Recall@10', 'Recall@20']].sort_values(by=metric, ascending=False)"
   ]
  },
  {
   "cell_type": "code",
   "execution_count": null,
   "metadata": {},
   "outputs": [],
   "source": [
    "df[df['model'] == 'PLRec'][['model', 'NDCG', 'MAP@5', 'MAP@10', 'MAP@20']].sort_values(by=metric, ascending=False)"
   ]
  },
  {
   "cell_type": "code",
   "execution_count": 55,
   "metadata": {},
   "outputs": [
    {
     "data": {
      "text/html": [
       "<div>\n",
       "<style scoped>\n",
       "    .dataframe tbody tr th:only-of-type {\n",
       "        vertical-align: middle;\n",
       "    }\n",
       "\n",
       "    .dataframe tbody tr th {\n",
       "        vertical-align: top;\n",
       "    }\n",
       "\n",
       "    .dataframe thead th {\n",
       "        text-align: right;\n",
       "    }\n",
       "</style>\n",
       "<table border=\"1\" class=\"dataframe\">\n",
       "  <thead>\n",
       "    <tr style=\"text-align: right;\">\n",
       "      <th></th>\n",
       "      <th>model</th>\n",
       "      <th>NDCG</th>\n",
       "      <th>Precision@5</th>\n",
       "      <th>Precision@10</th>\n",
       "      <th>Precision@20</th>\n",
       "    </tr>\n",
       "  </thead>\n",
       "  <tbody>\n",
       "    <tr>\n",
       "      <th>17</th>\n",
       "      <td>VAE-CF</td>\n",
       "      <td>[0.0232, 0.0016]</td>\n",
       "      <td>[0.0055, 0.0008]</td>\n",
       "      <td>[0.0051, 0.0005]</td>\n",
       "      <td>[0.0048, 0.0004]</td>\n",
       "    </tr>\n",
       "    <tr>\n",
       "      <th>12</th>\n",
       "      <td>VAE-CF</td>\n",
       "      <td>[0.0227, 0.0016]</td>\n",
       "      <td>[0.005, 0.0007]</td>\n",
       "      <td>[0.0051, 0.0005]</td>\n",
       "      <td>[0.0048, 0.0004]</td>\n",
       "    </tr>\n",
       "    <tr>\n",
       "      <th>11</th>\n",
       "      <td>VAE-CF</td>\n",
       "      <td>[0.0227, 0.0015]</td>\n",
       "      <td>[0.0051, 0.0008]</td>\n",
       "      <td>[0.0051, 0.0005]</td>\n",
       "      <td>[0.0047, 0.0004]</td>\n",
       "    </tr>\n",
       "    <tr>\n",
       "      <th>0</th>\n",
       "      <td>VAE-CF</td>\n",
       "      <td>[0.0209, 0.0015]</td>\n",
       "      <td>[0.0047, 0.0007]</td>\n",
       "      <td>[0.0045, 0.0005]</td>\n",
       "      <td>[0.0042, 0.0004]</td>\n",
       "    </tr>\n",
       "  </tbody>\n",
       "</table>\n",
       "</div>"
      ],
      "text/plain": [
       "     model              NDCG       Precision@5      Precision@10  \\\n",
       "17  VAE-CF  [0.0232, 0.0016]  [0.0055, 0.0008]  [0.0051, 0.0005]   \n",
       "12  VAE-CF  [0.0227, 0.0016]   [0.005, 0.0007]  [0.0051, 0.0005]   \n",
       "11  VAE-CF  [0.0227, 0.0015]  [0.0051, 0.0008]  [0.0051, 0.0005]   \n",
       "0   VAE-CF  [0.0209, 0.0015]  [0.0047, 0.0007]  [0.0045, 0.0005]   \n",
       "\n",
       "        Precision@20  \n",
       "17  [0.0048, 0.0004]  \n",
       "12  [0.0048, 0.0004]  \n",
       "11  [0.0047, 0.0004]  \n",
       "0   [0.0042, 0.0004]  "
      ]
     },
     "execution_count": 55,
     "metadata": {},
     "output_type": "execute_result"
    }
   ],
   "source": [
    "df[df['model'] == 'VAE-CF'][['model', 'NDCG', 'Precision@5', 'Precision@10', 'Precision@20']].sort_values(by=metric, ascending=False)"
   ]
  },
  {
   "cell_type": "code",
   "execution_count": 12,
   "metadata": {},
   "outputs": [
    {
     "data": {
      "text/html": [
       "<div>\n",
       "<style scoped>\n",
       "    .dataframe tbody tr th:only-of-type {\n",
       "        vertical-align: middle;\n",
       "    }\n",
       "\n",
       "    .dataframe tbody tr th {\n",
       "        vertical-align: top;\n",
       "    }\n",
       "\n",
       "    .dataframe thead th {\n",
       "        text-align: right;\n",
       "    }\n",
       "</style>\n",
       "<table border=\"1\" class=\"dataframe\">\n",
       "  <thead>\n",
       "    <tr style=\"text-align: right;\">\n",
       "      <th></th>\n",
       "      <th>model</th>\n",
       "      <th>NDCG</th>\n",
       "    </tr>\n",
       "  </thead>\n",
       "  <tbody>\n",
       "    <tr>\n",
       "      <th>6</th>\n",
       "      <td>PureSVD</td>\n",
       "      <td>[0.0131, 0.0012]</td>\n",
       "    </tr>\n",
       "  </tbody>\n",
       "</table>\n",
       "</div>"
      ],
      "text/plain": [
       "     model              NDCG\n",
       "6  PureSVD  [0.0131, 0.0012]"
      ]
     },
     "execution_count": 12,
     "metadata": {},
     "output_type": "execute_result"
    }
   ],
   "source": []
  },
  {
   "cell_type": "code",
   "execution_count": 15,
   "metadata": {},
   "outputs": [
    {
     "data": {
      "text/html": [
       "<div>\n",
       "<style scoped>\n",
       "    .dataframe tbody tr th:only-of-type {\n",
       "        vertical-align: middle;\n",
       "    }\n",
       "\n",
       "    .dataframe tbody tr th {\n",
       "        vertical-align: top;\n",
       "    }\n",
       "\n",
       "    .dataframe thead th {\n",
       "        text-align: right;\n",
       "    }\n",
       "</style>\n",
       "<table border=\"1\" class=\"dataframe\">\n",
       "  <thead>\n",
       "    <tr style=\"text-align: right;\">\n",
       "      <th></th>\n",
       "      <th>model</th>\n",
       "      <th>NDCG</th>\n",
       "    </tr>\n",
       "  </thead>\n",
       "  <tbody>\n",
       "    <tr>\n",
       "      <th>10</th>\n",
       "      <td>CDAE</td>\n",
       "      <td>[0.0159, 0.0015]</td>\n",
       "    </tr>\n",
       "    <tr>\n",
       "      <th>5</th>\n",
       "      <td>CDAE</td>\n",
       "      <td>[0.0119, 0.001]</td>\n",
       "    </tr>\n",
       "    <tr>\n",
       "      <th>1</th>\n",
       "      <td>CDAE</td>\n",
       "      <td>[0.0118, 0.0009]</td>\n",
       "    </tr>\n",
       "    <tr>\n",
       "      <th>4</th>\n",
       "      <td>CDAE</td>\n",
       "      <td>[0.0115, 0.0009]</td>\n",
       "    </tr>\n",
       "  </tbody>\n",
       "</table>\n",
       "</div>"
      ],
      "text/plain": [
       "   model              NDCG\n",
       "10  CDAE  [0.0159, 0.0015]\n",
       "5   CDAE   [0.0119, 0.001]\n",
       "1   CDAE  [0.0118, 0.0009]\n",
       "4   CDAE  [0.0115, 0.0009]"
      ]
     },
     "execution_count": 15,
     "metadata": {},
     "output_type": "execute_result"
    }
   ],
   "source": []
  },
  {
   "cell_type": "code",
   "execution_count": 16,
   "metadata": {},
   "outputs": [
    {
     "data": {
      "text/html": [
       "<div>\n",
       "<style scoped>\n",
       "    .dataframe tbody tr th:only-of-type {\n",
       "        vertical-align: middle;\n",
       "    }\n",
       "\n",
       "    .dataframe tbody tr th {\n",
       "        vertical-align: top;\n",
       "    }\n",
       "\n",
       "    .dataframe thead th {\n",
       "        text-align: right;\n",
       "    }\n",
       "</style>\n",
       "<table border=\"1\" class=\"dataframe\">\n",
       "  <thead>\n",
       "    <tr style=\"text-align: right;\">\n",
       "      <th></th>\n",
       "      <th>model</th>\n",
       "      <th>NDCG</th>\n",
       "    </tr>\n",
       "  </thead>\n",
       "  <tbody>\n",
       "    <tr>\n",
       "      <th>3</th>\n",
       "      <td>NCE-PLRec</td>\n",
       "      <td>[0.0147, 0.0012]</td>\n",
       "    </tr>\n",
       "  </tbody>\n",
       "</table>\n",
       "</div>"
      ],
      "text/plain": [
       "       model              NDCG\n",
       "3  NCE-PLRec  [0.0147, 0.0012]"
      ]
     },
     "execution_count": 16,
     "metadata": {},
     "output_type": "execute_result"
    }
   ],
   "source": [
    "df[df['model'] == 'NCE-PLRec'][['model', 'NDCG']].sort_values(by=metric, ascending=False)"
   ]
  },
  {
   "cell_type": "code",
   "execution_count": 17,
   "metadata": {},
   "outputs": [
    {
     "data": {
      "text/html": [
       "<div>\n",
       "<style scoped>\n",
       "    .dataframe tbody tr th:only-of-type {\n",
       "        vertical-align: middle;\n",
       "    }\n",
       "\n",
       "    .dataframe tbody tr th {\n",
       "        vertical-align: top;\n",
       "    }\n",
       "\n",
       "    .dataframe thead th {\n",
       "        text-align: right;\n",
       "    }\n",
       "</style>\n",
       "<table border=\"1\" class=\"dataframe\">\n",
       "  <thead>\n",
       "    <tr style=\"text-align: right;\">\n",
       "      <th></th>\n",
       "      <th>model</th>\n",
       "      <th>NDCG</th>\n",
       "    </tr>\n",
       "  </thead>\n",
       "  <tbody>\n",
       "    <tr>\n",
       "      <th>14</th>\n",
       "      <td>PLRec</td>\n",
       "      <td>[0.0151, 0.0012]</td>\n",
       "    </tr>\n",
       "  </tbody>\n",
       "</table>\n",
       "</div>"
      ],
      "text/plain": [
       "    model              NDCG\n",
       "14  PLRec  [0.0151, 0.0012]"
      ]
     },
     "execution_count": 17,
     "metadata": {},
     "output_type": "execute_result"
    }
   ],
   "source": [
    "df[df['model'] == 'PLRec'][['model', 'NDCG']].sort_values(by=metric, ascending=False)"
   ]
  },
  {
   "cell_type": "code",
   "execution_count": 18,
   "metadata": {},
   "outputs": [
    {
     "data": {
      "text/html": [
       "<div>\n",
       "<style scoped>\n",
       "    .dataframe tbody tr th:only-of-type {\n",
       "        vertical-align: middle;\n",
       "    }\n",
       "\n",
       "    .dataframe tbody tr th {\n",
       "        vertical-align: top;\n",
       "    }\n",
       "\n",
       "    .dataframe thead th {\n",
       "        text-align: right;\n",
       "    }\n",
       "</style>\n",
       "<table border=\"1\" class=\"dataframe\">\n",
       "  <thead>\n",
       "    <tr style=\"text-align: right;\">\n",
       "      <th></th>\n",
       "      <th>model</th>\n",
       "      <th>NDCG</th>\n",
       "    </tr>\n",
       "  </thead>\n",
       "  <tbody>\n",
       "    <tr>\n",
       "      <th>2</th>\n",
       "      <td>BPR</td>\n",
       "      <td>[0.0182, 0.0013]</td>\n",
       "    </tr>\n",
       "    <tr>\n",
       "      <th>16</th>\n",
       "      <td>BPR</td>\n",
       "      <td>[0.0143, 0.0012]</td>\n",
       "    </tr>\n",
       "    <tr>\n",
       "      <th>9</th>\n",
       "      <td>BPR</td>\n",
       "      <td>[0.0101, 0.0008]</td>\n",
       "    </tr>\n",
       "    <tr>\n",
       "      <th>13</th>\n",
       "      <td>BPR</td>\n",
       "      <td>[0.0055, 0.0007]</td>\n",
       "    </tr>\n",
       "    <tr>\n",
       "      <th>7</th>\n",
       "      <td>BPR</td>\n",
       "      <td>[0.0045, 0.0006]</td>\n",
       "    </tr>\n",
       "  </tbody>\n",
       "</table>\n",
       "</div>"
      ],
      "text/plain": [
       "   model              NDCG\n",
       "2    BPR  [0.0182, 0.0013]\n",
       "16   BPR  [0.0143, 0.0012]\n",
       "9    BPR  [0.0101, 0.0008]\n",
       "13   BPR  [0.0055, 0.0007]\n",
       "7    BPR  [0.0045, 0.0006]"
      ]
     },
     "execution_count": 18,
     "metadata": {},
     "output_type": "execute_result"
    }
   ],
   "source": [
    "df[df['model'] == 'BPR'][['model', 'NDCG']].sort_values(by=metric, ascending=False)"
   ]
  },
  {
   "cell_type": "code",
   "execution_count": null,
   "metadata": {},
   "outputs": [],
   "source": []
  }
 ],
 "metadata": {
  "kernelspec": {
   "display_name": "Python 3",
   "language": "python",
   "name": "python3"
  },
  "language_info": {
   "codemirror_mode": {
    "name": "ipython",
    "version": 3
   },
   "file_extension": ".py",
   "mimetype": "text/x-python",
   "name": "python",
   "nbconvert_exporter": "python",
   "pygments_lexer": "ipython3",
   "version": "3.8.5"
  }
 },
 "nbformat": 4,
 "nbformat_minor": 4
}
