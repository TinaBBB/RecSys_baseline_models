{
 "cells": [
  {
   "cell_type": "code",
   "execution_count": 1,
   "metadata": {
    "collapsed": true
   },
   "outputs": [],
   "source": [
    "import os\n",
    "from scipy.sparse import save_npz, load_npz\n",
    "from scipy.sparse import csr_matrix\n",
    "import numpy as np\n",
    "import pandas as pd\n",
    "from tqdm import tqdm\n",
    "import pickle\n",
    "import yaml\n",
    "import stat\n",
    "from os import listdir\n",
    "from os.path import isfile, join\n",
    "from ast import literal_eval\n",
    "import matplotlib.pyplot as plt\n",
    "import seaborn as sns\n",
    "from utils.io import load_yaml"
   ]
  },
  {
   "cell_type": "code",
   "execution_count": 2,
   "metadata": {
    "collapsed": true
   },
   "outputs": [],
   "source": [
    "def find_all_nceplrec(domain, folder_path, meatric):\n",
    "    csv_files = [join(folder_path, f) for f in listdir(folder_path)\n",
    "                 if isfile(join(folder_path, f)) and f.endswith('nceplrec.csv')]\n",
    "\n",
    "    for record in csv_files:\n",
    "        df = pd.read_csv(record)\n",
    "        df[meatric+'_Score'] = df[meatric].map(lambda x: literal_eval(x)[0])\n",
    "        df['domain'] = domain\n",
    "    return df"
   ]
  },
  {
   "cell_type": "code",
   "execution_count": 3,
   "metadata": {
    "collapsed": true
   },
   "outputs": [],
   "source": [
    "dataset = ['movielens20m','netflix','yahoo']\n",
    "names = ['Movielens', 'Netflix', 'Yahoo']"
   ]
  },
  {
   "cell_type": "code",
   "execution_count": 4,
   "metadata": {
    "collapsed": true
   },
   "outputs": [],
   "source": [
    "dfs = []\n",
    "for i, data in enumerate(dataset):\n",
    "    dfs.append(find_all_nceplrec(names[i], 'tables/'+data, 'NDCG'))\n",
    "df = pd.concat(dfs)"
   ]
  },
  {
   "cell_type": "code",
   "execution_count": 5,
   "metadata": {},
   "outputs": [
    {
     "data": {
      "text/html": [
       "<div>\n",
       "<style>\n",
       "    .dataframe thead tr:only-child th {\n",
       "        text-align: right;\n",
       "    }\n",
       "\n",
       "    .dataframe thead th {\n",
       "        text-align: left;\n",
       "    }\n",
       "\n",
       "    .dataframe tbody tr th {\n",
       "        vertical-align: top;\n",
       "    }\n",
       "</style>\n",
       "<table border=\"1\" class=\"dataframe\">\n",
       "  <thead>\n",
       "    <tr style=\"text-align: right;\">\n",
       "      <th></th>\n",
       "      <th>Unnamed: 0</th>\n",
       "      <th>model</th>\n",
       "      <th>rank</th>\n",
       "      <th>alpha</th>\n",
       "      <th>lambda</th>\n",
       "      <th>iter</th>\n",
       "      <th>similarity</th>\n",
       "      <th>corruption</th>\n",
       "      <th>root</th>\n",
       "      <th>topK</th>\n",
       "      <th>...</th>\n",
       "      <th>Precision@5</th>\n",
       "      <th>Precision@50</th>\n",
       "      <th>R-Precision</th>\n",
       "      <th>Recall@10</th>\n",
       "      <th>Recall@15</th>\n",
       "      <th>Recall@20</th>\n",
       "      <th>Recall@5</th>\n",
       "      <th>Recall@50</th>\n",
       "      <th>NDCG_Score</th>\n",
       "      <th>domain</th>\n",
       "    </tr>\n",
       "  </thead>\n",
       "  <tbody>\n",
       "    <tr>\n",
       "      <th>0</th>\n",
       "      <td>0</td>\n",
       "      <td>NCE-PLRec</td>\n",
       "      <td>50</td>\n",
       "      <td>1</td>\n",
       "      <td>1</td>\n",
       "      <td>10</td>\n",
       "      <td>Cosine</td>\n",
       "      <td>0</td>\n",
       "      <td>0.7</td>\n",
       "      <td>NaN</td>\n",
       "      <td>...</td>\n",
       "      <td>[0.1112, 0.0009]</td>\n",
       "      <td>[0.0735, 0.0004]</td>\n",
       "      <td>[0.0943, 0.0006]</td>\n",
       "      <td>[0.1046, 0.0009]</td>\n",
       "      <td>[0.1463, 0.001]</td>\n",
       "      <td>[0.1828, 0.0012]</td>\n",
       "      <td>[0.0571, 0.0006]</td>\n",
       "      <td>[0.3222, 0.0015]</td>\n",
       "      <td>0.1962</td>\n",
       "      <td>Movielens</td>\n",
       "    </tr>\n",
       "    <tr>\n",
       "      <th>1</th>\n",
       "      <td>1</td>\n",
       "      <td>NCE-PLRec</td>\n",
       "      <td>50</td>\n",
       "      <td>1</td>\n",
       "      <td>1</td>\n",
       "      <td>10</td>\n",
       "      <td>Cosine</td>\n",
       "      <td>0</td>\n",
       "      <td>0.8</td>\n",
       "      <td>NaN</td>\n",
       "      <td>...</td>\n",
       "      <td>[0.113, 0.0009]</td>\n",
       "      <td>[0.075, 0.0004]</td>\n",
       "      <td>[0.0969, 0.0007]</td>\n",
       "      <td>[0.1091, 0.0009]</td>\n",
       "      <td>[0.1525, 0.0011]</td>\n",
       "      <td>[0.1905, 0.0012]</td>\n",
       "      <td>[0.0594, 0.0006]</td>\n",
       "      <td>[0.3331, 0.0015]</td>\n",
       "      <td>0.2020</td>\n",
       "      <td>Movielens</td>\n",
       "    </tr>\n",
       "    <tr>\n",
       "      <th>2</th>\n",
       "      <td>2</td>\n",
       "      <td>NCE-PLRec</td>\n",
       "      <td>50</td>\n",
       "      <td>1</td>\n",
       "      <td>1</td>\n",
       "      <td>10</td>\n",
       "      <td>Cosine</td>\n",
       "      <td>0</td>\n",
       "      <td>0.9</td>\n",
       "      <td>NaN</td>\n",
       "      <td>...</td>\n",
       "      <td>[0.114, 0.0009]</td>\n",
       "      <td>[0.0763, 0.0004]</td>\n",
       "      <td>[0.098, 0.0007]</td>\n",
       "      <td>[0.1105, 0.0009]</td>\n",
       "      <td>[0.1552, 0.0011]</td>\n",
       "      <td>[0.1948, 0.0012]</td>\n",
       "      <td>[0.0601, 0.0007]</td>\n",
       "      <td>[0.3427, 0.0015]</td>\n",
       "      <td>0.2064</td>\n",
       "      <td>Movielens</td>\n",
       "    </tr>\n",
       "    <tr>\n",
       "      <th>3</th>\n",
       "      <td>3</td>\n",
       "      <td>NCE-PLRec</td>\n",
       "      <td>50</td>\n",
       "      <td>1</td>\n",
       "      <td>1</td>\n",
       "      <td>10</td>\n",
       "      <td>Cosine</td>\n",
       "      <td>0</td>\n",
       "      <td>1.0</td>\n",
       "      <td>NaN</td>\n",
       "      <td>...</td>\n",
       "      <td>[0.1137, 0.0009]</td>\n",
       "      <td>[0.0778, 0.0004]</td>\n",
       "      <td>[0.0971, 0.0007]</td>\n",
       "      <td>[0.1085, 0.0009]</td>\n",
       "      <td>[0.1538, 0.0011]</td>\n",
       "      <td>[0.1952, 0.0013]</td>\n",
       "      <td>[0.0591, 0.0007]</td>\n",
       "      <td>[0.3515, 0.0016]</td>\n",
       "      <td>0.2092</td>\n",
       "      <td>Movielens</td>\n",
       "    </tr>\n",
       "    <tr>\n",
       "      <th>4</th>\n",
       "      <td>4</td>\n",
       "      <td>NCE-PLRec</td>\n",
       "      <td>50</td>\n",
       "      <td>1</td>\n",
       "      <td>1</td>\n",
       "      <td>10</td>\n",
       "      <td>Cosine</td>\n",
       "      <td>0</td>\n",
       "      <td>1.1</td>\n",
       "      <td>NaN</td>\n",
       "      <td>...</td>\n",
       "      <td>[0.1114, 0.0009]</td>\n",
       "      <td>[0.0781, 0.0004]</td>\n",
       "      <td>[0.0952, 0.0007]</td>\n",
       "      <td>[0.1045, 0.0009]</td>\n",
       "      <td>[0.1489, 0.0011]</td>\n",
       "      <td>[0.1893, 0.0012]</td>\n",
       "      <td>[0.0566, 0.0006]</td>\n",
       "      <td>[0.353, 0.0016]</td>\n",
       "      <td>0.2079</td>\n",
       "      <td>Movielens</td>\n",
       "    </tr>\n",
       "  </tbody>\n",
       "</table>\n",
       "<p>5 rows × 24 columns</p>\n",
       "</div>"
      ],
      "text/plain": [
       "   Unnamed: 0      model  rank  alpha  lambda  iter similarity  corruption  \\\n",
       "0           0  NCE-PLRec    50      1       1    10     Cosine           0   \n",
       "1           1  NCE-PLRec    50      1       1    10     Cosine           0   \n",
       "2           2  NCE-PLRec    50      1       1    10     Cosine           0   \n",
       "3           3  NCE-PLRec    50      1       1    10     Cosine           0   \n",
       "4           4  NCE-PLRec    50      1       1    10     Cosine           0   \n",
       "\n",
       "   root  topK    ...           Precision@5      Precision@50  \\\n",
       "0   0.7   NaN    ...      [0.1112, 0.0009]  [0.0735, 0.0004]   \n",
       "1   0.8   NaN    ...       [0.113, 0.0009]   [0.075, 0.0004]   \n",
       "2   0.9   NaN    ...       [0.114, 0.0009]  [0.0763, 0.0004]   \n",
       "3   1.0   NaN    ...      [0.1137, 0.0009]  [0.0778, 0.0004]   \n",
       "4   1.1   NaN    ...      [0.1114, 0.0009]  [0.0781, 0.0004]   \n",
       "\n",
       "        R-Precision         Recall@10         Recall@15         Recall@20  \\\n",
       "0  [0.0943, 0.0006]  [0.1046, 0.0009]   [0.1463, 0.001]  [0.1828, 0.0012]   \n",
       "1  [0.0969, 0.0007]  [0.1091, 0.0009]  [0.1525, 0.0011]  [0.1905, 0.0012]   \n",
       "2   [0.098, 0.0007]  [0.1105, 0.0009]  [0.1552, 0.0011]  [0.1948, 0.0012]   \n",
       "3  [0.0971, 0.0007]  [0.1085, 0.0009]  [0.1538, 0.0011]  [0.1952, 0.0013]   \n",
       "4  [0.0952, 0.0007]  [0.1045, 0.0009]  [0.1489, 0.0011]  [0.1893, 0.0012]   \n",
       "\n",
       "           Recall@5         Recall@50 NDCG_Score     domain  \n",
       "0  [0.0571, 0.0006]  [0.3222, 0.0015]     0.1962  Movielens  \n",
       "1  [0.0594, 0.0006]  [0.3331, 0.0015]     0.2020  Movielens  \n",
       "2  [0.0601, 0.0007]  [0.3427, 0.0015]     0.2064  Movielens  \n",
       "3  [0.0591, 0.0007]  [0.3515, 0.0016]     0.2092  Movielens  \n",
       "4  [0.0566, 0.0006]   [0.353, 0.0016]     0.2079  Movielens  \n",
       "\n",
       "[5 rows x 24 columns]"
      ]
     },
     "execution_count": 5,
     "metadata": {},
     "output_type": "execute_result"
    }
   ],
   "source": [
    "df.head()"
   ]
  },
  {
   "cell_type": "code",
   "execution_count": 6,
   "metadata": {
    "collapsed": true
   },
   "outputs": [],
   "source": [
    "fig, ax = plt.subplots(figsize=(5, 3))\n",
    "sns.lineplot(x='root', y=\"NDCG_Score\", hue='domain', style='domain', markers=True, ci=50, data=df, ax=ax)\n",
    "plt.xlabel(\"Beta\")\n",
    "plt.ylabel(\"NDCG\")\n",
    "plt.tight_layout()"
   ]
  },
  {
   "cell_type": "code",
   "execution_count": 7,
   "metadata": {},
   "outputs": [
    {
     "data": {
      "image/png": "[encoded data removed]",
      "text/plain": [
       "<matplotlib.figure.Figure at 0x7f93ec619950>"
      ]
     },
     "metadata": {},
     "output_type": "display_data"
    }
   ],
   "source": [
    "plt.savefig('figs/beta.pdf', format='pdf')\n",
    "plt.show()"
   ]
  },
  {
   "cell_type": "code",
   "execution_count": 8,
   "metadata": {
    "collapsed": true
   },
   "outputs": [],
   "source": [
    "time_df = pd.read_csv('tables/timing.csv')\n",
    "time_df = time_df.sort_values(by=['Time']).reset_index()\n",
    "time_df['Time'] = time_df['Time']"
   ]
  },
  {
   "cell_type": "code",
   "execution_count": 9,
   "metadata": {},
   "outputs": [
    {
     "data": {
      "text/html": [
       "<div>\n",
       "<style>\n",
       "    .dataframe thead tr:only-child th {\n",
       "        text-align: right;\n",
       "    }\n",
       "\n",
       "    .dataframe thead th {\n",
       "        text-align: left;\n",
       "    }\n",
       "\n",
       "    .dataframe tbody tr th {\n",
       "        vertical-align: top;\n",
       "    }\n",
       "</style>\n",
       "<table border=\"1\" class=\"dataframe\">\n",
       "  <thead>\n",
       "    <tr style=\"text-align: right;\">\n",
       "      <th></th>\n",
       "      <th>level_0</th>\n",
       "      <th>Unnamed: 0</th>\n",
       "      <th>index</th>\n",
       "      <th>Method</th>\n",
       "      <th>Time</th>\n",
       "    </tr>\n",
       "  </thead>\n",
       "  <tbody>\n",
       "    <tr>\n",
       "      <th>0</th>\n",
       "      <td>0</td>\n",
       "      <td>0</td>\n",
       "      <td>5</td>\n",
       "      <td>PureSVD</td>\n",
       "      <td>64.465046</td>\n",
       "    </tr>\n",
       "    <tr>\n",
       "      <th>1</th>\n",
       "      <td>1</td>\n",
       "      <td>1</td>\n",
       "      <td>0</td>\n",
       "      <td>PLRec</td>\n",
       "      <td>97.169447</td>\n",
       "    </tr>\n",
       "    <tr>\n",
       "      <th>2</th>\n",
       "      <td>2</td>\n",
       "      <td>2</td>\n",
       "      <td>2</td>\n",
       "      <td>NCE-SVD</td>\n",
       "      <td>378.716946</td>\n",
       "    </tr>\n",
       "    <tr>\n",
       "      <th>3</th>\n",
       "      <td>3</td>\n",
       "      <td>3</td>\n",
       "      <td>3</td>\n",
       "      <td>NCE-PLRec</td>\n",
       "      <td>463.964498</td>\n",
       "    </tr>\n",
       "    <tr>\n",
       "      <th>4</th>\n",
       "      <td>4</td>\n",
       "      <td>4</td>\n",
       "      <td>9</td>\n",
       "      <td>AutoRec</td>\n",
       "      <td>2693.963599</td>\n",
       "    </tr>\n",
       "    <tr>\n",
       "      <th>5</th>\n",
       "      <td>5</td>\n",
       "      <td>5</td>\n",
       "      <td>6</td>\n",
       "      <td>CDAE</td>\n",
       "      <td>3445.830643</td>\n",
       "    </tr>\n",
       "    <tr>\n",
       "      <th>6</th>\n",
       "      <td>6</td>\n",
       "      <td>6</td>\n",
       "      <td>8</td>\n",
       "      <td>VAE-CF</td>\n",
       "      <td>3661.221051</td>\n",
       "    </tr>\n",
       "    <tr>\n",
       "      <th>7</th>\n",
       "      <td>7</td>\n",
       "      <td>7</td>\n",
       "      <td>1</td>\n",
       "      <td>BPR</td>\n",
       "      <td>14032.845759</td>\n",
       "    </tr>\n",
       "    <tr>\n",
       "      <th>8</th>\n",
       "      <td>8</td>\n",
       "      <td>8</td>\n",
       "      <td>4</td>\n",
       "      <td>CML</td>\n",
       "      <td>15209.464049</td>\n",
       "    </tr>\n",
       "    <tr>\n",
       "      <th>9</th>\n",
       "      <td>9</td>\n",
       "      <td>9</td>\n",
       "      <td>7</td>\n",
       "      <td>WRMF</td>\n",
       "      <td>31996.982896</td>\n",
       "    </tr>\n",
       "  </tbody>\n",
       "</table>\n",
       "</div>"
      ],
      "text/plain": [
       "   level_0  Unnamed: 0  index     Method          Time\n",
       "0        0           0      5    PureSVD     64.465046\n",
       "1        1           1      0      PLRec     97.169447\n",
       "2        2           2      2    NCE-SVD    378.716946\n",
       "3        3           3      3  NCE-PLRec    463.964498\n",
       "4        4           4      9    AutoRec   2693.963599\n",
       "5        5           5      6       CDAE   3445.830643\n",
       "6        6           6      8     VAE-CF   3661.221051\n",
       "7        7           7      1        BPR  14032.845759\n",
       "8        8           8      4        CML  15209.464049\n",
       "9        9           9      7       WRMF  31996.982896"
      ]
     },
     "execution_count": 9,
     "metadata": {},
     "output_type": "execute_result"
    }
   ],
   "source": [
    "time_df"
   ]
  },
  {
   "cell_type": "code",
   "execution_count": 10,
   "metadata": {},
   "outputs": [],
   "source": [
    "import matplotlib.pyplot as plt\n",
    "import matplotlib.patheffects as path_effects\n",
    "\n",
    "fig, ax = plt.subplots(figsize=(5, 3))\n",
    "sns.barplot(x=\"Time\", y=\"Method\", data=time_df,facecolor=(1, 1, 1, 0), errcolor=\".2\", edgecolor=\".2\", ax=ax)\n",
    "\n",
    "# Define some hatches\n",
    "hatches = ['\\\\\\\\\\\\']\n",
    "\n",
    "# Loop over the bars\n",
    "for i,thisbar in enumerate(ax.patches):\n",
    "    # Set a different hatch for each bar\n",
    "    thisbar.set_hatch(hatches[0])\n",
    "    \n",
    "#ax.set_xscale(\"log\")\n",
    "#ax.set_xlim(0, 1e4)\n",
    "ax.set_ylabel('Algorithm')\n",
    "ax.set_xlabel('Time(in seconds)')\n",
    "\n",
    "# for index, row in time_df.iterrows():\n",
    "#     text = ax.text(1e4, index+0.15, \"{:10.4f}\".format(row.Time), color='black', ha=\"right\", va='center')\n",
    "#     text.set_path_effects([path_effects.Stroke(linewidth=1, foreground='white'),\n",
    "#                        path_effects.Normal()])\n",
    "sns.despine()\n",
    "plt.tight_layout()"
   ]
  },
  {
   "cell_type": "code",
   "execution_count": 11,
   "metadata": {},
   "outputs": [
    {
     "data": {
      "image/png": "[encoded data removed]",
      "text/plain": [
       "<matplotlib.figure.Figure at 0x7f93e8c2cdd0>"
      ]
     },
     "metadata": {},
     "output_type": "display_data"
    }
   ],
   "source": [
    "plt.savefig('figs/time.pdf',format='pdf')\n",
    "plt.show()"
   ]
  },
  {
   "cell_type": "code",
   "execution_count": null,
   "metadata": {
    "collapsed": true
   },
   "outputs": [],
   "source": [
    "pop_df = pd.read_csv('caches/personalization_at_{0}.csv')"
   ]
  },
  {
   "cell_type": "code",
   "execution_count": null,
   "metadata": {},
   "outputs": [],
   "source": [
    "#pop_df = pop_df[pop_df['model'].isin(['NCE-SVD',' NCE-PLRec'])]"
   ]
  },
  {
   "cell_type": "code",
   "execution_count": null,
   "metadata": {},
   "outputs": [],
   "source": [
    "pop_df.head()"
   ]
  },
  {
   "cell_type": "code",
   "execution_count": null,
   "metadata": {},
   "outputs": [],
   "source": [
    "def pandas_ridge_plot(df, model, pop, k, folder='figures', name='personalization', save=True):\n",
    "    sns.set(style=\"white\", rc={\"axes.facecolor\": (0, 0, 0, 0)})\n",
    "    num_models = len(df.model.unique())\n",
    "\n",
    "\n",
    "    # Initialize the FacetGrid object\n",
    "    pal = sns.cubehelix_palette(num_models, rot=-.25, light=.7)\n",
    "    g = sns.FacetGrid(df, row=model, hue=model, aspect=10, height=0.5, palette=pal)\n",
    "\n",
    "    # Draw the densities in a few steps\n",
    "    g.map(sns.kdeplot, pop, clip_on=False, shade=True, alpha=1, lw=1.5, bw=1000)\n",
    "    g.map(sns.kdeplot, pop, clip_on=False, color=\"w\", lw=1.5, bw=1000)\n",
    "    g.map(plt.axhline, y=0, lw=2, clip_on=False)\n",
    "\n",
    "    # Define and use a simple function to label the plot in axes coordinates\n",
    "    def label(x, color, label):\n",
    "        ax = plt.gca()\n",
    "        ax.text(-0.2, 0.1, label,\n",
    "                ha=\"left\", va=\"center\", transform=ax.transAxes)\n",
    "\n",
    "    g.map(label, pop)\n",
    "\n",
    "    # Set the subplots to overlap\n",
    "    g.fig.subplots_adjust(hspace=-0.8)\n",
    "\n",
    "    # Remove axes details that don't play well with overlap\n",
    "\n",
    "    g.set_xlabels(\"Popularity Distribution of Recommended Items\")\n",
    "    g.set_titles(\"\")\n",
    "    g.set(yticks=[])\n",
    "    g.despine(bottom=True, left=True)\n",
    "    if save:\n",
    "        pass\n",
    "        fig_path = load_yaml('config/global.yml', key='path')['figs']\n",
    "        plt.savefig(\"{2}/{0}/{1}.pdf\".format(folder, name, fig_path), format=\"pdf\", bbox_inches=\"tight\")\n",
    "        plt.savefig(\"{2}/{0}/{1}.png\".format(folder, name, fig_path), format=\"png\", bbox_inches=\"tight\")\n",
    "        plt.show()\n",
    "    else:\n",
    "        plt.show()\n",
    "    plt.close()"
   ]
  },
  {
   "cell_type": "code",
   "execution_count": null,
   "metadata": {},
   "outputs": [],
   "source": [
    "pandas_ridge_plot(pop_df, 'model', 'pop', 'x', folder='analysis/{0}/personalization'.format('test'),\n",
    "                  name=\"personalization_at_x\".format('x'))"
   ]
  },
  {
   "cell_type": "code",
   "execution_count": null,
   "metadata": {
    "collapsed": true
   },
   "outputs": [],
   "source": []
  },
  {
   "cell_type": "code",
   "execution_count": null,
   "metadata": {
    "collapsed": true
   },
   "outputs": [],
   "source": []
  }
 ],
 "metadata": {
  "kernelspec": {
   "display_name": "Python 2",
   "language": "python",
   "name": "python2"
  },
  "language_info": {
   "codemirror_mode": {
    "name": "ipython",
    "version": 2
   },
   "file_extension": ".py",
   "mimetype": "text/x-python",
   "name": "python",
   "nbconvert_exporter": "python",
   "pygments_lexer": "ipython2",
   "version": "2.7.12"
  }
 },
 "nbformat": 4,
 "nbformat_minor": 2
}
